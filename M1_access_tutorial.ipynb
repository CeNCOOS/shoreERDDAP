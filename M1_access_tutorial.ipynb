{
  "nbformat": 4,
  "nbformat_minor": 0,
  "metadata": {
    "colab": {
      "name": "M1_access_tutorial.ipynb",
      "version": "0.3.2",
      "provenance": [],
      "include_colab_link": true
    },
    "kernelspec": {
      "name": "python3",
      "display_name": "Python 3"
    }
  },
  "cells": [
    {
      "cell_type": "markdown",
      "metadata": {
        "id": "view-in-github",
        "colab_type": "text"
      },
      "source": [
        "<a href=\"https://colab.research.google.com/github/CeNCOOS/shoreERDDAP/blob/master/M1_access_tutorial.ipynb\" target=\"_parent\"><img src=\"https://colab.research.google.com/assets/colab-badge.svg\" alt=\"Open In Colab\"/></a>"
      ]
    },
    {
      "metadata": {
        "id": "_ZF_DSOHQsgR",
        "colab_type": "text"
      },
      "cell_type": "markdown",
      "source": [
        "This is a special version of a [Jupyter notebook](http://jupyter.org). If you don't know what that is or how to run one, that is OK. You can run it in this browser without downloading anything. You will need to log into your google account.\n",
        "\n",
        "To run in Google Colab:\n",
        "Go to **Runtime** (in the menu above)\n",
        "Select the **Run All** command\n",
        "\n",
        "The code might take a little while the first time, since it has to download a couple of special python packages.\n",
        "\n",
        "If you have questions or comments, reach out to us at cencoos_staff@mbari.org."
      ]
    },
    {
      "metadata": {
        "id": "Cj_-mBvnA5cV",
        "colab_type": "code",
        "colab": {
          "base_uri": "https://localhost:8080/",
          "height": 388
        },
        "outputId": "633c9bc5-b825-4f8c-8351-12d6ab55a405"
      },
      "cell_type": "code",
      "source": [
        "# This stuff is all boilerplate for downloading important packages\n",
        "# It might take a little while the first time it runs, because its downloading a couple of large packages\n",
        "!pip install xarray\n",
        "!pip install netcdf4\n",
        "!pip install cmocean\n",
        "!pip install thredds_crawler\n",
        "\n",
        "from cmocean import cm\n",
        "import datetime as dt\n",
        "import pandas as pd\n",
        "import xarray as xr\n",
        "import numpy as np\n",
        "from xml.dom import minidom\n",
        "import urllib, requests\n",
        "import matplotlib.pyplot as plt\n",
        "from mpl_toolkits.axes_grid1 import make_axes_locatable\n",
        "from thredds_crawler.crawl import Crawl"
      ],
      "execution_count": 1,
      "outputs": [
        {
          "output_type": "stream",
          "text": [
            "Requirement already satisfied: xarray in /usr/local/lib/python3.6/dist-packages (0.11.0)\n",
            "Requirement already satisfied: numpy>=1.12 in /usr/local/lib/python3.6/dist-packages (from xarray) (1.14.6)\n",
            "Requirement already satisfied: pandas>=0.19.2 in /usr/local/lib/python3.6/dist-packages (from xarray) (0.22.0)\n",
            "Requirement already satisfied: pytz>=2011k in /usr/local/lib/python3.6/dist-packages (from pandas>=0.19.2->xarray) (2018.7)\n",
            "Requirement already satisfied: python-dateutil>=2 in /usr/local/lib/python3.6/dist-packages (from pandas>=0.19.2->xarray) (2.5.3)\n",
            "Requirement already satisfied: six>=1.5 in /usr/local/lib/python3.6/dist-packages (from python-dateutil>=2->pandas>=0.19.2->xarray) (1.11.0)\n",
            "Requirement already satisfied: netcdf4 in /usr/local/lib/python3.6/dist-packages (1.4.2)\n",
            "Requirement already satisfied: numpy>=1.7 in /usr/local/lib/python3.6/dist-packages (from netcdf4) (1.14.6)\n",
            "Requirement already satisfied: cftime in /usr/local/lib/python3.6/dist-packages (from netcdf4) (1.0.2.1)\n",
            "Requirement already satisfied: cmocean in /usr/local/lib/python3.6/dist-packages (1.2)\n",
            "Requirement already satisfied: thredds_crawler in /usr/local/lib/python3.6/dist-packages (1.5.4)\n",
            "Requirement already satisfied: python-dateutil in /usr/local/lib/python3.6/dist-packages (from thredds_crawler) (2.5.3)\n",
            "Requirement already satisfied: pytz in /usr/local/lib/python3.6/dist-packages (from thredds_crawler) (2018.7)\n",
            "Requirement already satisfied: lxml in /usr/local/lib/python3.6/dist-packages (from thredds_crawler) (4.2.5)\n",
            "Requirement already satisfied: requests in /usr/local/lib/python3.6/dist-packages (from thredds_crawler) (2.18.4)\n",
            "Requirement already satisfied: six>=1.5 in /usr/local/lib/python3.6/dist-packages (from python-dateutil->thredds_crawler) (1.11.0)\n",
            "Requirement already satisfied: urllib3<1.23,>=1.21.1 in /usr/local/lib/python3.6/dist-packages (from requests->thredds_crawler) (1.22)\n",
            "Requirement already satisfied: certifi>=2017.4.17 in /usr/local/lib/python3.6/dist-packages (from requests->thredds_crawler) (2018.10.15)\n",
            "Requirement already satisfied: idna<2.7,>=2.5 in /usr/local/lib/python3.6/dist-packages (from requests->thredds_crawler) (2.6)\n",
            "Requirement already satisfied: chardet<3.1.0,>=3.0.2 in /usr/local/lib/python3.6/dist-packages (from requests->thredds_crawler) (3.0.4)\n"
          ],
          "name": "stdout"
        }
      ]
    },
    {
      "metadata": {
        "id": "LA9g5s7DBGVn",
        "colab_type": "text"
      },
      "cell_type": "markdown",
      "source": [
        "## MBARI M1 dataset ##\n",
        "\n",
        "Tutorial for accessing the data using the xarray package and lazy loading off of the CeNCOOS THREDDS sever.\n",
        "\n",
        "First, we are going to craw the THREDDS server to get the urls of all of the different M1 deployments and exclude the urls to the subsurface data. This is done using a handy tool called the [thredds_crawer](https://github.com/ioos/thredds_crawler) that hides all of the requests and parsing of the catalog.xml file.\n",
        "\n"
      ]
    },
    {
      "metadata": {
        "id": "O5kfdztvOIee",
        "colab_type": "code",
        "colab": {
          "base_uri": "https://localhost:8080/",
          "height": 935
        },
        "outputId": "da9e981f-c1a9-4c9c-fd5c-8511a80e53e7"
      },
      "cell_type": "code",
      "source": [
        "# Find all do the netcdf files in this catalog\n",
        "c = Crawl(\"http://thredds.cencoos.org/thredds/catalog/cencoos/staticsensors/m1/catalog.xml\", select=[\".*nc\"])\n",
        "# Lets filter out files that contain _D_M in the name, which indicates that it is the surface meteorological data\n",
        "# This piece of funky code \n",
        "urls = [s.get(\"url\") for d in c.datasets if d.name.find(\"_D_M\") == -1 for s in d.services if (s.get(\"service\").lower() == \"opendap\") ] \n",
        "[print(u) for u in sorted(urls)]"
      ],
      "execution_count": 2,
      "outputs": [
        {
          "output_type": "stream",
          "text": [
            "http://thredds.cencoos.org/thredds/dodsC/cencoos/staticsensors/m1/OS_M1_19890821_D_TMTS.nc\n",
            "http://thredds.cencoos.org/thredds/dodsC/cencoos/staticsensors/m1/OS_M1_19920116_D_TMTS.nc\n",
            "http://thredds.cencoos.org/thredds/dodsC/cencoos/staticsensors/m1/OS_M1_19920831_D_TMTS.nc\n",
            "http://thredds.cencoos.org/thredds/dodsC/cencoos/staticsensors/m1/OS_M1_19931104_D_TMTS.nc\n",
            "http://thredds.cencoos.org/thredds/dodsC/cencoos/staticsensors/m1/OS_M1_19950315_D_TMTS.nc\n",
            "http://thredds.cencoos.org/thredds/dodsC/cencoos/staticsensors/m1/OS_M1_19960625_D_TMTS.nc\n",
            "http://thredds.cencoos.org/thredds/dodsC/cencoos/staticsensors/m1/OS_M1_19970731_D_TMTS.nc\n",
            "http://thredds.cencoos.org/thredds/dodsC/cencoos/staticsensors/m1/OS_M1_19980923_D_TMTS.nc\n",
            "http://thredds.cencoos.org/thredds/dodsC/cencoos/staticsensors/m1/OS_M1_19991104_D_TMTS.nc\n",
            "http://thredds.cencoos.org/thredds/dodsC/cencoos/staticsensors/m1/OS_M1_20001006_D_TMTS.nc\n",
            "http://thredds.cencoos.org/thredds/dodsC/cencoos/staticsensors/m1/OS_M1_20011029_D_TMTS.nc\n",
            "http://thredds.cencoos.org/thredds/dodsC/cencoos/staticsensors/m1/OS_M1_20011113_D_TMTS.nc\n",
            "http://thredds.cencoos.org/thredds/dodsC/cencoos/staticsensors/m1/OS_M1_20021017_D_TMTS.nc\n",
            "http://thredds.cencoos.org/thredds/dodsC/cencoos/staticsensors/m1/OS_M1_20031107_D_TMTS.nc\n",
            "http://thredds.cencoos.org/thredds/dodsC/cencoos/staticsensors/m1/OS_M1_20041021_D_TMTS.nc\n",
            "http://thredds.cencoos.org/thredds/dodsC/cencoos/staticsensors/m1/OS_M1_20051020_D_TMTS.nc\n",
            "http://thredds.cencoos.org/thredds/dodsC/cencoos/staticsensors/m1/OS_M1_20061012_D_TMTS.nc\n",
            "http://thredds.cencoos.org/thredds/dodsC/cencoos/staticsensors/m1/OS_M1_20071106_D_TMTS.nc\n",
            "http://thredds.cencoos.org/thredds/dodsC/cencoos/staticsensors/m1/OS_M1_20081008_D_TMTS.nc\n",
            "http://thredds.cencoos.org/thredds/dodsC/cencoos/staticsensors/m1/OS_M1_20091020_D_TMTS.nc\n",
            "http://thredds.cencoos.org/thredds/dodsC/cencoos/staticsensors/m1/OS_M1_20101027_D_TMTS.nc\n",
            "http://thredds.cencoos.org/thredds/dodsC/cencoos/staticsensors/m1/OS_M1_20120222_D_TMTS.nc\n",
            "http://thredds.cencoos.org/thredds/dodsC/cencoos/staticsensors/m1/OS_M1_20130918_D_TMTS.nc\n",
            "http://thredds.cencoos.org/thredds/dodsC/cencoos/staticsensors/m1/OS_M1_20140716_D_TMTS.nc\n",
            "http://thredds.cencoos.org/thredds/dodsC/cencoos/staticsensors/m1/OS_M1_20150801_D_TMTS.nc\n",
            "http://thredds.cencoos.org/thredds/dodsC/cencoos/staticsensors/m1/OS_M1_20160829_D_TMTS.nc\n",
            "http://thredds.cencoos.org/thredds/dodsC/cencoos/staticsensors/m1/OS_M1_20170808_D_TMTS.nc\n"
          ],
          "name": "stdout"
        },
        {
          "output_type": "execute_result",
          "data": {
            "text/plain": [
              "[None,\n",
              " None,\n",
              " None,\n",
              " None,\n",
              " None,\n",
              " None,\n",
              " None,\n",
              " None,\n",
              " None,\n",
              " None,\n",
              " None,\n",
              " None,\n",
              " None,\n",
              " None,\n",
              " None,\n",
              " None,\n",
              " None,\n",
              " None,\n",
              " None,\n",
              " None,\n",
              " None,\n",
              " None,\n",
              " None,\n",
              " None,\n",
              " None,\n",
              " None,\n",
              " None]"
            ]
          },
          "metadata": {
            "tags": []
          },
          "execution_count": 2
        }
      ]
    },
    {
      "metadata": {
        "id": "6y2Zvw4OOJKC",
        "colab_type": "code",
        "colab": {
          "base_uri": "https://localhost:8080/",
          "height": 1513
        },
        "outputId": "d8c5479c-40cf-4eaa-e0ed-5440d09d567a"
      },
      "cell_type": "code",
      "source": [
        "ds = xr.open_dataset(urls[0])\n",
        "ds"
      ],
      "execution_count": 3,
      "outputs": [
        {
          "output_type": "execute_result",
          "data": {
            "text/plain": [
              "<xarray.Dataset>\n",
              "Dimensions:    (DEPTH: 11, LATITUDE: 1, LONGITUDE: 1, TIME: 52272)\n",
              "Coordinates:\n",
              "  * TIME       (TIME) datetime64[ns] 2017-08-08T19:55:38 ... 2018-08-06T19:45:38\n",
              "  * DEPTH      (DEPTH) float32 1.0 10.0 20.0 40.0 ... 150.0 200.0 250.0 300.0\n",
              "  * LATITUDE   (LATITUDE) float32 36.75\n",
              "  * LONGITUDE  (LONGITUDE) float32 -122.03\n",
              "Data variables:\n",
              "    TEMP       (TIME, DEPTH, LATITUDE, LONGITUDE) float32 ...\n",
              "    TEMP_QC    (TIME, DEPTH, LATITUDE, LONGITUDE) float32 ...\n",
              "    PSAL       (TIME, DEPTH, LATITUDE, LONGITUDE) float32 ...\n",
              "    PSAL_QC    (TIME, DEPTH, LATITUDE, LONGITUDE) float32 ...\n",
              "    CNDC       (TIME, DEPTH, LATITUDE, LONGITUDE) float32 ...\n",
              "    CNDC_QC    (TIME, DEPTH, LATITUDE, LONGITUDE) float32 ...\n",
              "    PRES       (TIME, DEPTH, LATITUDE, LONGITUDE) float32 ...\n",
              "    PRES_QC    (TIME, DEPTH, LATITUDE, LONGITUDE) float32 ...\n",
              "Attributes:\n",
              "    title:                           \"Gridded 10 minute MBARI Mooring M1 Sea ...\n",
              "    date_created:                    2018-09-19T15:42:58Z\n",
              "    acknowlegement:                  MBARI\n",
              "    cdm_data_type:                   Station\n",
              "    comment:                         M1 Deployment, Hybrid deployment between...\n",
              "    contributor_name:                Fred Bahr, Francisco Chavez, Jared Figur...\n",
              "    contributor_role:                author, data provider, deployer, facility\n",
              "    Conventions:                     CF-1.6\n",
              "    creator_name:                    Fred Bahr\n",
              "    creator_email:                   flbahr@mbari.org\n",
              "    creator_url:                     http://www.mbari.org/\n",
              "    date_issued:                     2018-09-19T15:42:58Z\n",
              "    date_modified:                   2018-09-19T15:42:58Z\n",
              "    date_update:                     2018-09-19T15:42:58Z\n",
              "    featureType:                     timeSeriesProfile\n",
              "    data_type:                       OceanSites time-series data\n",
              "    geospatial_lat_max:              36.7118\n",
              "    geospatial_lat_min:              36.6901\n",
              "    geospatial_lat_resolution:       point\n",
              "    geospatial_lat_units:            degrees_north\n",
              "    geospatial_lon_max:              -122.3892\n",
              "    geospatial_lon_min:              -121.3679\n",
              "    geospatial_lon_resolution:       point\n",
              "    geospatial_lon_units:            degrees_east\n",
              "    geospatial_vertical_max:         300\n",
              "    geospatial_vertical_min:         0\n",
              "    geospatial_vertical_positive:    down\n",
              "    geospatial_vertical_resolution:  point\n",
              "    geospatial_vertical_units:       meters\n",
              "    history:                         Data manually inspected.\n",
              "    time_coverage_start:             2017-08-08T19:55:38Z\n",
              "    time_coverage_end:               2018-08-06T19:45:38Z\n",
              "    time_coverage_duration:          P362.9931D\n",
              "    time_coverage_resolution:        PT10M\n",
              "    id:                              OS_M1_20170808_TM_D_TS.nc\n",
              "    institution:                     MBARI\n",
              "    ioos_regional_association:       CeNCOOS\n",
              "    keywords_vocabulary:             GCMD Science Keywords\n",
              "    keywords:                        Oceans>Oceans Pressure>Water  Pressure, ...\n",
              "    license:                         The data may be used and redistributed f...\n",
              "    Metadata_Conventions:            Unidata Dataset Discovery v1.0, OceanSIT...\n",
              "    metadata_link:                    \n",
              "    naming_authority:                OceanSITES\n",
              "    processing_level:                Data from MBARI microcats manually reviewed\n",
              "    project:                         OASIS,MBARI Time-Series\n",
              "    publisher_email:                 flbahr@mbari.org\n",
              "    publisher_name:                  Fred Bahr\n",
              "    publisher_url:                   http://www.mbari.org/thredds/\n",
              "    references:                      http://www.mbari.org\n",
              "    sea_name:                        North Pacific Ocean\n",
              "    source:                          Mooring observation\n",
              "    instrumentType:                  Mooring M1 SeaCat and MicroCat Data\n",
              "    waterDepth:                      1600m\n",
              "    dataflagcomment:                 Good data flag=0, bad data=1,3 marginal ...\n",
              "    contributor_email:               chfr@mbari.org\n",
              "    site_code:                       MBARI\n",
              "    platform_code:                   M1\n",
              "    data_mode:                       D\n",
              "    data_assembly_center:            MBARI\n",
              "    wmo_platform_code:               46092\n",
              "    principal_investigator:          Francisco Chavez\n",
              "    citation:                        These data were collected and made freel...\n",
              "    QC_indicator:                    mixed\n",
              "    format_version:                  1.3\n",
              "    netcdfd_version:                 4\n",
              "    calibrationFiles:                null\n",
              "    configurationFile:               null\n",
              "    update_interval:                 void\n",
              "    area:                            North East Pacific Ocean\n",
              "    summary:                         On going moored observations in Monterey...\n",
              "    DODS_EXTRA.Unlimited_Dimension:  TIME"
            ]
          },
          "metadata": {
            "tags": []
          },
          "execution_count": 3
        }
      ]
    },
    {
      "metadata": {
        "id": "bCXA5fXkErJQ",
        "colab_type": "code",
        "colab": {
          "base_uri": "https://localhost:8080/",
          "height": 51
        },
        "outputId": "1e77e55d-32cb-4622-d6fb-860f2cf0b437"
      },
      "cell_type": "code",
      "source": [
        "# Flatten the time record into an array, do the same for depth\n",
        "depth = ds['DEPTH'].values\n",
        "time = ds['TIME'].values\n",
        "# Now lets use the tile function to transpform that data into a 2-D array\n",
        "record_length = len(time)\n",
        "times = np.tile(time[1:record_length],(11,1)).T\n",
        "depths = np.tile(depth,(record_length-1,1))\n",
        "df = ds.isel(LATITUDE=0,LONGITUDE=0)['TEMP'].to_pandas()\n",
        "print(\"depths variable shape:\", depths.shape)\n",
        "print(\"temperature record shape:\", df.iloc[1:record_length].shape)"
      ],
      "execution_count": 4,
      "outputs": [
        {
          "output_type": "stream",
          "text": [
            "depths variable shape: (52271, 11)\n",
            "temperature record shape: (52271, 11)\n"
          ],
          "name": "stdout"
        }
      ]
    },
    {
      "metadata": {
        "id": "6_oORBKwFuu_",
        "colab_type": "code",
        "colab": {
          "base_uri": "https://localhost:8080/",
          "height": 645
        },
        "outputId": "56e7214b-f891-427b-d9b0-902ebc447ac4"
      },
      "cell_type": "code",
      "source": [
        "fig, ax = plt.subplots(figsize=(8,8))\n",
        "cax = ax.contourf(times,depths,df.ix[1:record_length],cmap=cm.thermal)\n",
        "ax.invert_yaxis()\n",
        "plt.colorbar(cax)\n",
        "fig.autofmt_xdate()\n",
        "ax.set_title(\"M1 Temperature\\n \" + str(time[1])[:10] + \" to \" + str(time[-1])[:10], size=16)"
      ],
      "execution_count": 5,
      "outputs": [
        {
          "output_type": "stream",
          "text": [
            "/usr/local/lib/python3.6/dist-packages/ipykernel_launcher.py:2: DeprecationWarning: \n",
            ".ix is deprecated. Please use\n",
            ".loc for label based indexing or\n",
            ".iloc for positional indexing\n",
            "\n",
            "See the documentation here:\n",
            "http://pandas.pydata.org/pandas-docs/stable/indexing.html#ix-indexer-is-deprecated\n",
            "  \n"
          ],
          "name": "stderr"
        },
        {
          "output_type": "execute_result",
          "data": {
            "text/plain": [
              "Text(0.5,1,'M1 Temperature\\n 2017-08-08 to 2018-08-06')"
            ]
          },
          "metadata": {
            "tags": []
          },
          "execution_count": 5
        },
        {
          "output_type": "display_data",
          "data": {
            "image/png": "[encoded data removed]",
            "text/plain": [
              "<matplotlib.figure.Figure at 0x7f4d8b28a128>"
            ]
          },
          "metadata": {
            "tags": []
          }
        }
      ]
    }
  ]
}